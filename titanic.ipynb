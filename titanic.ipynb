{
 "cells": [
  {
   "cell_type": "code",
   "execution_count": 1,
   "metadata": {},
   "outputs": [
    {
     "name": "stdout",
     "output_type": "stream",
     "text": [
      "male      577\n",
      "female    314\n",
      "Name: Sex, dtype: int64\n"
     ]
    }
   ],
   "source": [
    "import pandas as pd\n",
    "import matplotlib.pyplot as plt\n",
    "import numpy as np\n",
    "\n",
    "data = pd.read_csv('titanic.csv')\n",
    "#1. Какое количество мужчин и женщин ехало на корабле? В качестве\n",
    "#ответа приведите два числа через пробел.\n",
    "\n",
    "print(data['Sex'].value_counts())\n"
   ]
  },
  {
   "cell_type": "code",
   "execution_count": 2,
   "metadata": {},
   "outputs": [
    {
     "name": "stdout",
     "output_type": "stream",
     "text": [
      "38.38383838383838\n"
     ]
    }
   ],
   "source": [
    "import pandas as pd\n",
    "import matplotlib.pyplot as plt\n",
    "import numpy as np\n",
    "\n",
    "data = pd.read_csv('titanic.csv')\n",
    "#2. Какой части пассажиров удалось выжить? Посчитайте долю вы-\n",
    "#живших пассажиров. \n",
    "surv = data['Survived'].value_counts()\n",
    "percent = 100.0 * surv[1] / surv.sum()\n",
    "print(percent)"
   ]
  },
  {
   "cell_type": "code",
   "execution_count": 3,
   "metadata": {},
   "outputs": [
    {
     "name": "stdout",
     "output_type": "stream",
     "text": [
      "24.242424242424242\n"
     ]
    }
   ],
   "source": [
    "import pandas as pd\n",
    "import matplotlib.pyplot as plt\n",
    "import numpy as np\n",
    "\n",
    "data = pd.read_csv('titanic.csv')\n",
    "#3. Какую долю пассажиры первого класса составляли среди всех пас-\n",
    "#сажиров?\n",
    "pclass = data['Pclass'].value_counts()\n",
    "percnt = 100.0 * pclass[1] / pclass.sum()\n",
    "print(percnt)"
   ]
  },
  {
   "cell_type": "code",
   "execution_count": 4,
   "metadata": {},
   "outputs": [
    {
     "name": "stdout",
     "output_type": "stream",
     "text": [
      "29.69911764705882\n",
      "28.0\n"
     ]
    }
   ],
   "source": [
    "import pandas as pd\n",
    "import matplotlib.pyplot as plt\n",
    "import numpy as np\n",
    "\n",
    "data = pd.read_csv('titanic.csv')\n",
    "#4. Какого возраста были пассажиры? Посчитайте среднее и медиа-\n",
    "#ну возраста пассажиров. Посчитайте среднее и медиану возраста\n",
    "#пассажиров.\n",
    "ages = data['Age'].mean()\n",
    "ages2 = data['Age'].median()\n",
    "print(ages)\n",
    "print(ages2)"
   ]
  },
  {
   "cell_type": "code",
   "execution_count": 5,
   "metadata": {},
   "outputs": [
    {
     "name": "stdout",
     "output_type": "stream",
     "text": [
      "0.4148376986201561\n"
     ]
    }
   ],
   "source": [
    "import pandas as pd\n",
    "import matplotlib.pyplot as plt\n",
    "import numpy as np\n",
    "\n",
    "data = pd.read_csv('titanic.csv')\n",
    "#5. Коррелируют ли число братьев/сестер с числом родителей/детей?\n",
    "#Посчитайте корреляцию Пирсона между признаками SibSp и Parch.\n",
    "corr =  data['SibSp'].corr(data['Parch'])\n",
    "print(corr)"
   ]
  },
  {
   "cell_type": "code",
   "execution_count": 7,
   "metadata": {},
   "outputs": [
    {
     "name": "stdout",
     "output_type": "stream",
     "text": [
      "Anna\n"
     ]
    }
   ],
   "source": [
    "import pandas as pd\n",
    "import matplotlib.pyplot as plt\n",
    "import numpy as np\n",
    "import re\n",
    "\n",
    "data = pd.read_csv('titanic.csv')\n",
    "#6. Какое самое популярное женское имя на корабле? Извлеките из\n",
    "#полного имени пассажира (колонка Name) его личное имя (First\n",
    "#Name). \n",
    "def clean_name(name):\n",
    "    # Первое слово до запятой - фамилия\n",
    "    s = re.search('^[^,]+, (.*)', name)\n",
    "    if s:\n",
    "        name = s.group(1)\n",
    "\n",
    "    # Если есть скобки - то имя пассажира в них\n",
    "    s = re.search('\\(([^)]+)\\)', name)\n",
    "    if s:\n",
    "        name = s.group(1)\n",
    "\n",
    "    # Удаляем обращения\n",
    "    name = re.sub('(Miss\\. |Mrs\\. |Ms\\. )', '', name)\n",
    "\n",
    "    # Берем первое оставшееся слово и удаляем кавычки\n",
    "    name = name.split(' ')[0].replace('\"', '')\n",
    "\n",
    "    return name\n",
    "\n",
    "\n",
    "names = data[data['Sex'] == 'female']['Name'].map(clean_name)\n",
    "name_counts = names.value_counts()\n",
    "print(name_counts.head(1).index.values[0])"
   ]
  },
  {
   "cell_type": "code",
   "execution_count": null,
   "metadata": {},
   "outputs": [],
   "source": []
  }
 ],
 "metadata": {
  "kernelspec": {
   "display_name": "Python 3",
   "language": "python",
   "name": "python3"
  },
  "language_info": {
   "codemirror_mode": {
    "name": "ipython",
    "version": 3
   },
   "file_extension": ".py",
   "mimetype": "text/x-python",
   "name": "python",
   "nbconvert_exporter": "python",
   "pygments_lexer": "ipython3",
   "version": "3.6.4"
  }
 },
 "nbformat": 4,
 "nbformat_minor": 2
}
