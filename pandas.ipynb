{
 "cells": [
  {
   "cell_type": "code",
   "execution_count": 1,
   "metadata": {},
   "outputs": [
    {
     "name": "stdout",
     "output_type": "stream",
     "text": [
      "Male      21790\n",
      "Female    10771\n",
      "Name: sex, dtype: int64\n"
     ]
    }
   ],
   "source": [
    "import pandas as pd\n",
    "import matplotlib.pyplot as plt\n",
    "import numpy as np\n",
    "\n",
    "data = pd.read_csv('adult.data.csv')\n",
    "#1 сколько мужчин и женщин\n",
    "print(data['sex'].value_counts())"
   ]
  },
  {
   "cell_type": "code",
   "execution_count": 2,
   "metadata": {},
   "outputs": [
    {
     "name": "stdout",
     "output_type": "stream",
     "text": [
      "36.85823043357163\n"
     ]
    }
   ],
   "source": [
    "import pandas as pd\n",
    "import matplotlib.pyplot as plt\n",
    "import numpy as np\n",
    "\n",
    "data = pd.read_csv('adult.data.csv')\n",
    "#2 Каков средний возраст (признак age) женщин\n",
    "print(data[(data['sex'] == 'Female')].age.mean())"
   ]
  },
  {
   "cell_type": "code",
   "execution_count": 3,
   "metadata": {},
   "outputs": [
    {
     "name": "stdout",
     "output_type": "stream",
     "text": [
      "0.42074874850281013\n"
     ]
    }
   ],
   "source": [
    "import pandas as pd\n",
    "import matplotlib.pyplot as plt\n",
    "import numpy as np\n",
    "\n",
    "data = pd.read_csv('adult.data.csv')\n",
    "#3 Какова доля граждан Германии (признак native-country)\n",
    "print(data['native_country'].value_counts()['Germany'] / len(data) * 100)"
   ]
  },
  {
   "cell_type": "code",
   "execution_count": 4,
   "metadata": {},
   "outputs": [
    {
     "data": {
      "text/plain": [
       "(array([ 2108.,   433.,   501.,   646.,  1581.,  1382.,  5768., 10501.,\n",
       "         1774.,  7867.]),\n",
       " array([ 0. ,  1.5,  3. ,  4.5,  6. ,  7.5,  9. , 10.5, 12. , 13.5, 15. ]),\n",
       " <a list of 10 Patch objects>)"
      ]
     },
     "execution_count": 4,
     "metadata": {},
     "output_type": "execute_result"
    },
    {
     "data": {
      "image/png": "[encoded data removed]",
      "text/plain": [
       "<matplotlib.figure.Figure at 0x1e35888f198>"
      ]
     },
     "metadata": {},
     "output_type": "display_data"
    }
   ],
   "source": [
    "import pandas as pd\n",
    "import matplotlib.pyplot as plt\n",
    "import numpy as np\n",
    "\n",
    "data = pd.read_csv('adult.data.csv')\n",
    "#4 Постройте гистограмму распределения (bar plot) образования людей\n",
    "plt.hist(x = data.education)"
   ]
  },
  {
   "cell_type": "code",
   "execution_count": 5,
   "metadata": {},
   "outputs": [
    {
     "name": "stdout",
     "output_type": "stream",
     "text": [
      "44.0\n",
      "11.0\n",
      "37.0\n",
      "14.0\n"
     ]
    }
   ],
   "source": [
    "import pandas as pd\n",
    "import matplotlib.pyplot as plt\n",
    "import numpy as np\n",
    "\n",
    "data = pd.read_csv('adult.data.csv')\n",
    "# 5 Каковы средние значения и среднеквадратичные отклонения возраста тех, кто получает\n",
    "#более 50K в год (признак salary) и тех, кто получает менее 50K в год?\n",
    "#>50K среднее отколнения значение возраста\n",
    "print(round(data.loc[data.salary == '>50K'][\"age\"].describe()[1],0))\n",
    "#>50K среднеквадратичные отклонения возраста\n",
    "print(round(data.loc[data.salary == '>50K'][\"age\"].describe()[2],0))\n",
    "#<=50K среднее отколнения значение возраста\n",
    "print(round(data.loc[data.salary == '<=50K'][\"age\"].describe()[1],0))\n",
    "#<=50K среднеквадратичные отклонения возраста\n",
    "print(round(data.loc[data.salary == '<=50K'][\"age\"].describe()[2],0))"
   ]
  },
  {
   "cell_type": "code",
   "execution_count": 6,
   "metadata": {},
   "outputs": [
    {
     "name": "stdout",
     "output_type": "stream",
     "text": [
      "['HS-grad' 'Masters' 'Bachelors' 'Some-college' 'Assoc-voc' 'Doctorate'\n",
      " 'Prof-school' 'Assoc-acdm' '7th-8th' '12th' '10th' '11th' '9th' '5th-6th'\n",
      " '1st-4th']\n"
     ]
    }
   ],
   "source": [
    "import pandas as pd\n",
    "import matplotlib.pyplot as plt\n",
    "import numpy as np\n",
    "\n",
    "data = pd.read_csv('adult.data.csv')\n",
    "#6 Правда ли, что люди, которые получают больше 50k, имеют как минимум высшее\n",
    "#образование? (признак education - Bachelors, Prof-school, Assoc-acdm, Assoc-voc,\n",
    "#Masters или Doctorate)\n",
    "#Получаем список (без повторений) и видим,что это неправда\n",
    "print(data.loc[data.salary == '>50K'][\"education\"].unique())"
   ]
  },
  {
   "cell_type": "code",
   "execution_count": 7,
   "metadata": {},
   "outputs": [
    {
     "name": "stdout",
     "output_type": "stream",
     "text": [
      "                             count       mean        std   min   25%   50%  \\\n",
      "race               sex                                                       \n",
      "Amer-Indian-Eskimo Female    119.0  37.117647  13.114991  17.0  27.0  36.0   \n",
      "                   Male      192.0  37.208333  12.049563  17.0  28.0  35.0   \n",
      "Asian-Pac-Islander Female    346.0  35.089595  12.300845  17.0  25.0  33.0   \n",
      "                   Male      693.0  39.073593  12.883944  18.0  29.0  37.0   \n",
      "Black              Female   1555.0  37.854019  12.637197  17.0  28.0  37.0   \n",
      "                   Male     1569.0  37.682600  12.882612  17.0  27.0  36.0   \n",
      "Other              Female    109.0  31.678899  11.631599  17.0  23.0  29.0   \n",
      "                   Male      162.0  34.654321  11.355531  17.0  26.0  32.0   \n",
      "White              Female   8642.0  36.811618  14.329093  17.0  25.0  35.0   \n",
      "                   Male    19174.0  39.652498  13.436029  17.0  29.0  38.0   \n",
      "\n",
      "                             75%   max  \n",
      "race               sex                  \n",
      "Amer-Indian-Eskimo Female  46.00  80.0  \n",
      "                   Male    45.00  82.0  \n",
      "Asian-Pac-Islander Female  43.75  75.0  \n",
      "                   Male    46.00  90.0  \n",
      "Black              Female  46.00  90.0  \n",
      "                   Male    46.00  90.0  \n",
      "Other              Female  39.00  74.0  \n",
      "                   Male    42.00  77.0  \n",
      "White              Female  46.00  90.0  \n",
      "                   Male    49.00  90.0  \n"
     ]
    }
   ],
   "source": [
    "import pandas as pd\n",
    "import matplotlib.pyplot as plt\n",
    "import numpy as np\n",
    "\n",
    "data = pd.read_csv('adult.data.csv')\n",
    "#7. Выведите статистику возраста для каждой расы (признак race) и каждого пола.\n",
    "#Используйте groupby и describe. Найдите таким образом максимальный возраст мужчин\n",
    "#расы Amer-Indian-Eskimo.\n",
    "print(data.groupby(['race','sex']).age.describe())"
   ]
  },
  {
   "cell_type": "code",
   "execution_count": 8,
   "metadata": {},
   "outputs": [
    {
     "name": "stdout",
     "output_type": "stream",
     "text": [
      "Married-civ-spouse       6692\n",
      "Never-married             491\n",
      "Divorced                  463\n",
      "Widowed                    85\n",
      "Separated                  66\n",
      "Married-spouse-absent      34\n",
      "Married-AF-spouse          10\n",
      "Name: marital_status, dtype: int64\n"
     ]
    }
   ],
   "source": [
    "import pandas as pd\n",
    "import matplotlib.pyplot as plt\n",
    "import numpy as np\n",
    "\n",
    "data = pd.read_csv('adult.data.csv')\n",
    "#8. Среди кого больше доля зарабатывающих много (>50K): среди женатых или холостых\n",
    "#мужчин (признак marital-status)? Женатыми считаем тех, у кого marital-status начинается\n",
    "#с Married (Married-civ-spouse, Married-spouse-absent или Married-AF-spouse), остальных\n",
    "#считаем холостыми.\n",
    "print(data.loc[data.salary == '>50K'][\"marital_status\"].value_counts())"
   ]
  },
  {
   "cell_type": "code",
   "execution_count": 9,
   "metadata": {},
   "outputs": [
    {
     "name": "stdout",
     "output_type": "stream",
     "text": [
      "99\n",
      "85\n",
      "0.29411764705882354\n"
     ]
    }
   ],
   "source": [
    "import pandas as pd\n",
    "import matplotlib.pyplot as plt\n",
    "import numpy as np\n",
    "\n",
    "data = pd.read_csv('adult.data.csv')\n",
    "#9. Какое максимальное число часов человек работает в неделю (признак hours-per-week)?\n",
    "#Сколько людей работают такое количество часов и каков среди них процент\n",
    "#зарабатывающих много?\n",
    "maximum = data[\"hours_per_week\"].max()\n",
    "print(maximum)\n",
    "count_people = data[data[\"hours_per_week\"] == maximum].shape[0]\n",
    "print(count_people)\n",
    "dolya = data.loc[(data.salary == \">50K\") & (data[\"hours_per_week\"] == maximum)].shape[0] / count_people\n",
    "print(dolya)"
   ]
  },
  {
   "cell_type": "code",
   "execution_count": 10,
   "metadata": {},
   "outputs": [
    {
     "name": "stdout",
     "output_type": "stream",
     "text": [
      "native_country          ?   Cambodia     Canada      China   Columbia  \\\n",
      "salary                                                                  \n",
      "<=50K           40.164760  41.416667  37.914634  37.381818  38.684211   \n",
      ">50K            45.547945  40.000000  45.641026  38.900000  50.000000   \n",
      "\n",
      "native_country       Cuba  Dominican-Republic    Ecuador  El-Salvador  \\\n",
      "salary                                                                  \n",
      "<=50K           37.985714           42.338235  38.041667    36.030928   \n",
      ">50K            42.440000           47.000000  48.750000    45.000000   \n",
      "\n",
      "native_country    England     ...       Portugal  Puerto-Rico   Scotland  \\\n",
      "salary                        ...                                          \n",
      "<=50K           40.483333     ...      41.939394    38.470588  39.444444   \n",
      ">50K            44.533333     ...      41.500000    39.416667  46.666667   \n",
      "\n",
      "native_country     South     Taiwan   Thailand  Trinadad&Tobago  \\\n",
      "salary                                                            \n",
      "<=50K           40.15625  33.774194  42.866667        37.058824   \n",
      ">50K            51.43750  46.800000  58.333333        40.000000   \n",
      "\n",
      "native_country  United-States    Vietnam  Yugoslavia  \n",
      "salary                                                \n",
      "<=50K               38.799127  37.193548        41.6  \n",
      ">50K                45.505369  39.200000        49.5  \n",
      "\n",
      "[2 rows x 42 columns]\n"
     ]
    }
   ],
   "source": [
    "import pandas as pd\n",
    "import matplotlib.pyplot as plt\n",
    "import numpy as np\n",
    "\n",
    "data = pd.read_csv('adult.data.csv')\n",
    "#10. Посчитайте среднее время работы (hours-per-week) зарабатывающих мало и много\n",
    "#(salary) для каждой страны (native-country).\n",
    "print(pd.crosstab(data.salary, data[\"native_country\"], values=data[\"hours_per_week\"], aggfunc=np.mean))"
   ]
  },
  {
   "cell_type": "code",
   "execution_count": null,
   "metadata": {},
   "outputs": [],
   "source": []
  }
 ],
 "metadata": {
  "kernelspec": {
   "display_name": "Python 3",
   "language": "python",
   "name": "python3"
  },
  "language_info": {
   "codemirror_mode": {
    "name": "ipython",
    "version": 3
   },
   "file_extension": ".py",
   "mimetype": "text/x-python",
   "name": "python",
   "nbconvert_exporter": "python",
   "pygments_lexer": "ipython3",
   "version": "3.6.4"
  }
 },
 "nbformat": 4,
 "nbformat_minor": 2
}
